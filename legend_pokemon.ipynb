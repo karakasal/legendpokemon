{
 "cells": [
  {
   "cell_type": "code",
   "execution_count": null,
   "metadata": {},
   "outputs": [],
   "source": [
    "import pandas as pd\n",
    "import numpy as np\n",
    "import matplotlib.pyplot as plt\n",
    "import seaborn as sns\n",
    "\n",
    "from scipy import stats\n",
    "from sklearn.impute import SimpleImputer\n",
    "from sklearn.preprocessing import OneHotEncoder, StandardScaler\n",
    "from sklearn.compose import ColumnTransformer\n",
    "from sklearn.pipeline import Pipeline\n",
    "\n",
    "from sklearn.model_selection import train_test_split\n",
    "from xgboost import XGBClassifier\n",
    "from sklearn.metrics import classification_report, confusion_matrix, ConfusionMatrixDisplay"
   ]
  },
  {
   "cell_type": "code",
   "execution_count": null,
   "metadata": {},
   "outputs": [],
   "source": [
    "df = pd.read_csv('assets\\\\pokemon.csv')\n",
    "df_tmp = df.copy()\n",
    "df_tmp = df_tmp.drop(['#', 'Name'], axis=1)"
   ]
  },
  {
   "cell_type": "code",
   "execution_count": null,
   "metadata": {},
   "outputs": [],
   "source": [
    "df.head()"
   ]
  },
  {
   "cell_type": "code",
   "execution_count": null,
   "metadata": {},
   "outputs": [],
   "source": [
    "df.info()"
   ]
  },
  {
   "cell_type": "code",
   "execution_count": null,
   "metadata": {},
   "outputs": [],
   "source": [
    "df_eda = round(df.describe(), 2)\n",
    "df_eda.loc['unique'] = [df[col].nunique() for col in df_eda.columns]\n",
    "df_eda.loc['duplicate'] = [df[col].duplicated().sum() for col in df_eda.columns]\n",
    "df_eda.loc['missing'] = [df[col].isna().sum() for col in df_eda.columns]\n",
    "df_eda.loc['type'] = [df[col].dtype for col in df_eda.columns]\n",
    "df_eda.T"
   ]
  },
  {
   "cell_type": "code",
   "execution_count": null,
   "metadata": {},
   "outputs": [],
   "source": [
    "df.hist(figsize=(20, 10), bins=8, color='lightblue');"
   ]
  },
  {
   "cell_type": "code",
   "execution_count": null,
   "metadata": {},
   "outputs": [],
   "source": [
    "plt.scatter(df[\"Attack\"][df[\"Legendary\"]==1], df[\"Defense\"][df[\"Legendary\"]==1], c=\"lightblue\")\n",
    "plt.scatter(df[\"Attack\"][df[\"Legendary\"]==0], df[\"Defense\"][df[\"Legendary\"]==0], c=\"salmon\")\n",
    "plt.legend([\"Legendary\", \"Not Legendary\"])\n",
    "plt.xlabel(\"Attack\")\n",
    "plt.ylabel(\"Defense\");"
   ]
  },
  {
   "cell_type": "code",
   "execution_count": null,
   "metadata": {},
   "outputs": [],
   "source": [
    "pd.crosstab(df['HP']<100, df[\"Legendary\"], normalize=True).plot(kind=\"bar\", color=[\"salmon\", \"lightblue\"])\n",
    "plt.xticks((df['HP']<100).unique(), ['Below 100', 'Above 100'], rotation='horizontal');"
   ]
  },
  {
   "cell_type": "code",
   "execution_count": null,
   "metadata": {},
   "outputs": [],
   "source": [
    "col_di = {}\n",
    "for col in df_tmp.columns:\n",
    "     col_di[col] = df_tmp[col].nunique()\n",
    "\n",
    "sorted(col_di.items(), key=lambda k:k[1])"
   ]
  },
  {
   "cell_type": "code",
   "execution_count": null,
   "metadata": {},
   "outputs": [],
   "source": [
    "cat_cols = ['Type 1', 'Type 2', 'Generation']\n",
    "num_cols = [col for col in df_tmp.columns if col not in cat_cols and col != 'Legendary']"
   ]
  },
  {
   "cell_type": "code",
   "execution_count": null,
   "metadata": {},
   "outputs": [],
   "source": [
    "num_cols_i = [df_tmp.columns.get_loc(col) for col in df_tmp.columns if col in num_cols]\n",
    "\n",
    "z_scores = pd.DataFrame(stats.zscore(df_tmp.iloc[:, num_cols_i]))\n",
    "outliers = z_scores[(np.abs(z_scores) > 3).any(axis=1)]\n",
    "df_outliers = df_tmp.drop(outliers.index)\n",
    "df_outliers.info()"
   ]
  },
  {
   "cell_type": "code",
   "execution_count": null,
   "metadata": {},
   "outputs": [],
   "source": [
    "df_shuffled = df_outliers.sample(frac=1, random_state=42)\n",
    "\n",
    "X = df_shuffled.drop(\"Legendary\", axis=1)\n",
    "y = df_shuffled[\"Legendary\"]\n",
    "\n",
    "X_train, X_test, y_train, y_test = train_test_split(X, y, test_size=0.3, random_state=42, stratify=y)\n",
    "X_valid, X_test, y_valid, y_test = train_test_split(X_test, y_test, test_size=0.5, random_state=42, stratify=y_test)"
   ]
  },
  {
   "cell_type": "code",
   "execution_count": null,
   "metadata": {},
   "outputs": [],
   "source": [
    "cat_feat = Pipeline(steps=[('test1', SimpleImputer(strategy='constant', fill_value='Missing')),('test2', OneHotEncoder(drop='first'))])"
   ]
  },
  {
   "cell_type": "code",
   "execution_count": null,
   "metadata": {},
   "outputs": [],
   "source": [
    "transformer = ColumnTransformer(transformers=[('num', StandardScaler(), num_cols), ('cat', cat_feat, cat_cols)], sparse_threshold=0)\n",
    "\n",
    "X_train_tr = pd.DataFrame(transformer.fit_transform(X_train), columns=transformer.get_feature_names_out())\n",
    "X_valid_tr = pd.DataFrame(transformer.transform(X_valid), columns=transformer.get_feature_names_out())"
   ]
  },
  {
   "cell_type": "code",
   "execution_count": null,
   "metadata": {},
   "outputs": [],
   "source": [
    "y_train = y_train.astype(float)\n",
    "y_valid = y_valid.astype(float)"
   ]
  },
  {
   "cell_type": "code",
   "execution_count": null,
   "metadata": {},
   "outputs": [],
   "source": [
    "model = XGBClassifier(scale_pos_weight=400, early_stopping_rounds=20, learning_rate=0.01, random_state=42, eval_metric=[\"error\", \"logloss\"])\n",
    "eval_set = [(X_train_tr, y_train), (X_valid_tr, y_valid)]\n",
    "model.fit(X_train_tr, y_train, eval_set=eval_set, verbose=False)"
   ]
  },
  {
   "cell_type": "code",
   "execution_count": null,
   "metadata": {},
   "outputs": [],
   "source": [
    "y_pred = model.predict(X_valid_tr)"
   ]
  },
  {
   "cell_type": "code",
   "execution_count": null,
   "metadata": {},
   "outputs": [],
   "source": [
    "print(classification_report(y_valid, y_pred))"
   ]
  },
  {
   "cell_type": "code",
   "execution_count": null,
   "metadata": {},
   "outputs": [],
   "source": [
    "cm = confusion_matrix(y_valid, y_pred)\n",
    "ConfusionMatrixDisplay(cm, display_labels=model.classes_).plot(cmap='GnBu');"
   ]
  },
  {
   "cell_type": "code",
   "execution_count": null,
   "metadata": {},
   "outputs": [],
   "source": [
    "results = model.evals_result()\n",
    "epochs = len(results['validation_0']['logloss'])\n",
    "x_axis = range(0, epochs)\n",
    "\n",
    "fig, ax = plt.subplots()\n",
    "ax.plot(x_axis, results['validation_0']['logloss'], label='Train')\n",
    "ax.plot(x_axis, results['validation_1']['logloss'], label='Test')\n",
    "ax.legend()\n",
    "plt.ylabel('Log Loss')\n",
    "\n",
    "fig, ax = plt.subplots()\n",
    "ax.plot(x_axis, results['validation_0']['error'], label='Train')\n",
    "ax.plot(x_axis, results['validation_1']['error'], label='Test')\n",
    "ax.legend()\n",
    "plt.ylabel('Classification Error');"
   ]
  },
  {
   "cell_type": "code",
   "execution_count": null,
   "metadata": {},
   "outputs": [],
   "source": [
    "X_test['Type 2'] = X_test['Type 2'].fillna('Missing')\n",
    "X_test_tr = pd.DataFrame(transformer.transform(X_test), columns=transformer.get_feature_names_out())\n",
    "y_test = y_test.astype(float)"
   ]
  },
  {
   "cell_type": "code",
   "execution_count": null,
   "metadata": {},
   "outputs": [],
   "source": [
    "test_pred = model.predict(X_test_tr)"
   ]
  },
  {
   "cell_type": "code",
   "execution_count": null,
   "metadata": {},
   "outputs": [],
   "source": [
    "print(classification_report(y_test, test_pred))"
   ]
  },
  {
   "cell_type": "code",
   "execution_count": null,
   "metadata": {},
   "outputs": [],
   "source": [
    "cm_test = confusion_matrix(y_test, test_pred)\n",
    "ConfusionMatrixDisplay(cm_test, display_labels=model.classes_).plot(cmap='GnBu');"
   ]
  },
  {
   "cell_type": "code",
   "execution_count": null,
   "metadata": {},
   "outputs": [],
   "source": [
    "y_test.index"
   ]
  },
  {
   "cell_type": "code",
   "execution_count": null,
   "metadata": {},
   "outputs": [],
   "source": [
    "y_corr = y_test.reset_index(drop=True)\n",
    "df_corr = X_test_tr.join(y_corr)"
   ]
  },
  {
   "cell_type": "code",
   "execution_count": null,
   "metadata": {},
   "outputs": [],
   "source": [
    "plt.figure(figsize=(6,4))\n",
    "sns.heatmap(df_corr.corr()['Legendary'].sort_values(ascending=False)[1:6].to_frame(), annot=True, cmap=\"YlGnBu\", cbar=False);"
   ]
  }
 ],
 "metadata": {
  "kernelspec": {
   "display_name": "Python 3",
   "language": "python",
   "name": "python3"
  },
  "language_info": {
   "codemirror_mode": {
    "name": "ipython",
    "version": 3
   },
   "file_extension": ".py",
   "mimetype": "text/x-python",
   "name": "python",
   "nbconvert_exporter": "python",
   "pygments_lexer": "ipython3",
   "version": "3.12.4"
  }
 },
 "nbformat": 4,
 "nbformat_minor": 2
}
